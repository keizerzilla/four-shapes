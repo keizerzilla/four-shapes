{
 "cells": [
  {
   "cell_type": "markdown",
   "metadata": {},
   "source": [
    "Definimos _Momento de Imagem_ como a **média ponderada das intensidades dos pixels de uma imagem**. Considerando uma imagem $I(x,y)$ quadrada de dimensão $NxN$, podemos calcular os seus momentos na forma:\n",
    "\n",
    "$$M_{pq} = \\sum_{x=0}^{N-1}\\sum_{y=0}^{N-1}x^py^qI(x, y)$$\n",
    "\n",
    "$$"
   ]
  },
  {
   "cell_type": "markdown",
   "metadata": {},
   "source": [
    "$$\\bar{x} = \\frac{M_{10}}{M_{00}}$$\n",
    "$$\\bar{y} = \\frac{M_{01}}{M_{00}}$$"
   ]
  },
  {
   "cell_type": "markdown",
   "metadata": {},
   "source": [
    "$$\\mu_{pq} = \\sum_{x=0}^{N-1}\\sum_{y=0}^{N-1}(x - \\bar{x})^p(y - \\bar{y})^qI(x, y)$$"
   ]
  },
  {
   "cell_type": "markdown",
   "metadata": {},
   "source": [
    "$$\\eta_{pq} = \\frac{\\mu_{pq}}{\\mu_{00}^{1 + \\frac{p+q}{2}}}$$"
   ]
  },
  {
   "cell_type": "markdown",
   "metadata": {},
   "source": [
    "$h_1 = \\eta_{20} + \\eta_{02}$\n",
    "\n",
    "$h_2 = (\\eta_{20} - \\eta_{02})^2 + 4(\\eta_{11})^2$\n",
    "\n",
    "$h_3 = (\\eta_{30} - 3\\eta_{12})^2 + 3(\\eta_{03} - 3\\eta_{21})^2$\n",
    "\n",
    "$h_4 = (\\eta_{30} + \\eta_{12})^2 + (\\eta_{03} + \\eta_{21})^2$\n",
    "\n",
    "$h_5 = (\\eta_{30} - 3\\eta_{12})(\\eta_{30} + \\eta_{12})[(\\eta_{30} + \\eta_{12})^2 - 3(\\eta_{03} + \\eta_{21})^2] + (3\\eta_{21} - \\eta_{03})(\\eta_{03} + \\eta_{21})[3(\\eta_{30} + \\eta_{12})^2 - (\\eta_{03} + \\eta_{21})^2]$\n",
    "\n",
    "$h_6 = (\\eta_{20} - \\eta_{02})[(\\eta_{30} + \\eta_{12})^2 - 7(\\eta_{03} + \\eta_{21})^2] + 4\\eta_{11}(\\eta_{30} + \\eta_{12})(\\eta_{03} + \\eta_{21})$\n",
    "\n",
    "$h_7 = (3\\eta_{21} - \\eta_{03})(\\eta_{30} + \\eta_{12})[(\\eta_{30} + \\eta_{12})^2 - 3(\\eta_{03} + \\eta_{21})^2] + (\\eta_{30} - 3\\eta_{12})(\\eta_{03} + \\eta_{21})[3(\\eta_{30} + \\eta_{12})^2 - (\\eta_{03} + \\eta_{21})^2]$"
   ]
  }
 ],
 "metadata": {
  "kernelspec": {
   "display_name": "Python 3",
   "language": "python",
   "name": "python3"
  },
  "language_info": {
   "codemirror_mode": {
    "name": "ipython",
    "version": 3
   },
   "file_extension": ".py",
   "mimetype": "text/x-python",
   "name": "python",
   "nbconvert_exporter": "python",
   "pygments_lexer": "ipython3",
   "version": "3.6.8"
  }
 },
 "nbformat": 4,
 "nbformat_minor": 2
}
