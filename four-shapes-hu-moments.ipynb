{
 "cells": [
  {
   "cell_type": "markdown",
   "metadata": {},
   "source": [
    "### Momentos Gerais\n",
    "\n",
    "Definimos _Momento de Imagem_ como a **média ponderada das intensidades dos pixels de uma imagem**. Considerando uma imagem $I(x,y)$ quadrada de dimensão $NxN$, podemos calcular os seus momentos na forma:\n",
    "\n",
    "$$M_{pq} = \\sum_{x=0}^{N-1}\\sum_{y=0}^{N-1}x^py^qI(x, y)$$\n",
    "\n",
    "A expressão acima mostra o somatório de todas os valores de pixel $I(x,y)$ ponderados pela posição $x$ e $y$ a potências $p$ e $q$. Em outras palavras, momentos são valores que carregam informação espacial completa (localização e intesidade), ou seja, informação de forma. Os valores $p$ e $q$ são chamados de ordem das dimensões $X$ e $Y$, respectivamente. A ordem do momento em si é dado por $p+q$."
   ]
  },
  {
   "cell_type": "markdown",
   "metadata": {},
   "source": [
    "### Cálculo do Centróide\n",
    "\n",
    "Podemos extrair informações valiosas de $M_{pq}$. É fácil ver que $M_{00}$ é um acumulador de valores de intensidade (i.e número de pixels diferentes de zero), e a partir disso é possível calcular as coordenadas do centróide da massa de pixels $(\\bar{x}, \\bar{y})$:\n",
    "\n",
    "$$\\bar{x} = \\frac{M_{10}}{M_{00}}$$\n",
    "$$\\bar{y} = \\frac{M_{01}}{M_{00}}$$"
   ]
  },
  {
   "cell_type": "markdown",
   "metadata": {},
   "source": [
    "### Invariância à Translação\n",
    "\n",
    "O centróide, por sua vez, pode ser usado para modificar $M_{pq}$ para chegar a uma expressão **invariante a translação** $\\mu_{pq}$:\n",
    "\n",
    "$$\\mu_{pq} = \\sum_{x=0}^{N-1}\\sum_{y=0}^{N-1}(x - \\bar{x})^p(y - \\bar{y})^qI(x, y)$$\n",
    "\n",
    "Aqui, a informação de localização dos pixels é levada em conta com relação ao referencial do centróide. Isso quer dizer que, independente de onde a massa de pixels esteja localizada, $\\mu_{pq}$ não muda."
   ]
  },
  {
   "cell_type": "markdown",
   "metadata": {},
   "source": [
    "### Invariância à Escala\n",
    "\n",
    "Outra transformação comum em imagens é o escalamento, ou mudança de tamanho. Esse escalamento pode ser uniforme (igual em todas as direções) ou não-uniforme. A partir de relações algébricas, podemos chegar a uma expressão $\\eta_{pq}$ de momentos **invariantes à escala**:\n",
    "\n",
    "$$\\eta_{pq} = \\frac{\\mu_{pq}}{\\mu_{00}^{1 + \\frac{p+q}{2}}}$$\n",
    "\n",
    "A formulação acima é invariante tanto ao escalamento uniforme quanto ao não-uniforme. Como $\\eta_{pq}$ é calculado com os momentos invariantes à translação $\\mu_{pq}$, é fácil ver que eles são invariantes a ambas as transformações."
   ]
  },
  {
   "cell_type": "markdown",
   "metadata": {},
   "source": [
    "### Momentos de Hu: Invariância Completa\n",
    "\n",
    "Com o desafio de criar um conjunto completo de valores invariantes às transformações afins de translação, escala e rotação, (Hu, 1962) introduziu 7 valores batizados de Momentos de Hu:\n",
    "\n",
    "$h_1 = \\eta_{20} + \\eta_{02}$\n",
    "\n",
    "$h_2 = (\\eta_{20} - \\eta_{02})^2 + 4(\\eta_{11})^2$\n",
    "\n",
    "$h_3 = (\\eta_{30} - 3\\eta_{12})^2 + 3(\\eta_{03} - 3\\eta_{21})^2$\n",
    "\n",
    "$h_4 = (\\eta_{30} + \\eta_{12})^2 + (\\eta_{03} + \\eta_{21})^2$\n",
    "\n",
    "$h_5 = (\\eta_{30} - 3\\eta_{12})(\\eta_{30} + \\eta_{12})[(\\eta_{30} + \\eta_{12})^2 - 3(\\eta_{03} + \\eta_{21})^2] + (3\\eta_{21} - \\eta_{03})(\\eta_{03} + \\eta_{21})[3(\\eta_{30} + \\eta_{12})^2 - (\\eta_{03} + \\eta_{21})^2]$\n",
    "\n",
    "$h_6 = (\\eta_{20} - \\eta_{02})[(\\eta_{30} + \\eta_{12})^2 - 7(\\eta_{03} + \\eta_{21})^2] + 4\\eta_{11}(\\eta_{30} + \\eta_{12})(\\eta_{03} + \\eta_{21})$\n",
    "\n",
    "$h_7 = (3\\eta_{21} - \\eta_{03})(\\eta_{30} + \\eta_{12})[(\\eta_{30} + \\eta_{12})^2 - 3(\\eta_{03} + \\eta_{21})^2] + (\\eta_{30} - 3\\eta_{12})(\\eta_{03} + \\eta_{21})[3(\\eta_{30} + \\eta_{12})^2 - (\\eta_{03} + \\eta_{21})^2]$"
   ]
  },
  {
   "cell_type": "markdown",
   "metadata": {},
   "source": [
    "### Aplicação Prática: Classficação de Formas Simples\n",
    "\n",
    "O uso dos Momentos de Hu será ilustrado com um problema de classificação de forma simples. Um conjunto de dados com 14970 amostras de quatro classes (círculo, quadrado, estrela e triângulo) foi escolhido. O conjunto é livre e pode ser obtido no [Kaggle](https://www.kaggle.com/smeschke/four-shapes). As animações abaixo mostram as 400 primeiras amostras de cada classe afim de ilustrar a diversidade de exemplos.\n",
    "\n",
    "| ![SegmentLocal](images/circles.gif \"segment\") | ![SegmentLocal](images/squares.gif \"segment\") | ![SegmentLocal](images/stars.gif \"segment\") | ![SegmentLocal](images/triangles.gif \"segment\") |\n",
    "|-----------------------------------------------|-----------------------------------------------|-----------------------------------------------|-----------------------------------------------|"
   ]
  },
  {
   "cell_type": "markdown",
   "metadata": {},
   "source": [
    "Usaremos Python, OpenCV e scikit-learn nessa demonstração. Primeiro, vamos importar as bibliotecas necessárias."
   ]
  },
  {
   "cell_type": "code",
   "execution_count": 1,
   "metadata": {},
   "outputs": [],
   "source": [
    "import os\n",
    "import sys\n",
    "import cv2\n",
    "import numpy as np\n",
    "import pandas as pd\n",
    "import matplotlib.pyplot as plt\n",
    "from sklearn.svm import SVC as SVM\n",
    "from sklearn.metrics import pairwise_distances\n",
    "from sklearn.preprocessing import MinMaxScaler\n",
    "from sklearn.preprocessing import StandardScaler\n",
    "from sklearn.preprocessing import PowerTransformer\n",
    "from sklearn.neighbors import NearestCentroid as DMC\n",
    "from sklearn.model_selection import train_test_split as data_split\n",
    "from sklearn.discriminant_analysis import LinearDiscriminantAnalysis as LDA\n",
    "from sklearn.discriminant_analysis import QuadraticDiscriminantAnalysis as QDA"
   ]
  },
  {
   "cell_type": "markdown",
   "metadata": {},
   "source": [
    "Em seguida, vamos definir dois diciónarios (i.e relação de variáveis). O primeiro representa a relação entre o nome literal das classes. O segundo, o conjunto de classificadores que experimentaremos. São eles:\n",
    "\n",
    "- **DMC:** Distância Mínima ao Centróide\n",
    "- **LDA:** Discriminante Limiar\n",
    "- **QDA:** Discriminante Quadrático\n",
    "- **SMV_linear:** Support Vector Machine com kernel linear\n",
    "- **SMV_radial:** Support Vector Machine com kernel radial"
   ]
  },
  {
   "cell_type": "code",
   "execution_count": 2,
   "metadata": {},
   "outputs": [],
   "source": [
    "classes = {\n",
    "\t\"circle\"   : 1,\n",
    "\t\"square\"   : 2,\n",
    "\t\"star\"     : 3,\n",
    "\t\"triangle\" : 4\n",
    "}\n",
    "\n",
    "classifiers = {\n",
    "\t\"DMC\" : DMC(),\n",
    "\t\"LDA\" : LDA(),\n",
    "\t\"QDA\" : QDA(),\n",
    "\t\"SVM_linear\" : SVM(kernel=\"linear\"),\n",
    "\t\"SVM_radial\" : SVM(kernel=\"rbf\")\n",
    "}"
   ]
  },
  {
   "cell_type": "markdown",
   "metadata": {},
   "source": [
    "A primeira função definida faz a extração dos Momentos de Hu de cada uma das classes, gerando um arquivo .csv com os atributos extraídos mais as informações de classe e número de amostra. Os valores originais não são salvos. Em vez disso, uma transformação logarítmica é aplicada aos momentos. O motivo está na grande diferença na ordens dos momentos, o que, do ponto de vista de classificação, não é uma boa prática."
   ]
  },
  {
   "cell_type": "code",
   "execution_count": 29,
   "metadata": {},
   "outputs": [],
   "source": [
    "def feature_extraction(data_file, segmentate=False):\n",
    "\tdump = []\n",
    "\t\n",
    "\tprint(\"Extracting Hu moments...\")\n",
    "\t\n",
    "\tfor c, idx in classes.items():\n",
    "\t\tclass_folder = \"data/{}/\".format(c)\n",
    "\t\t\n",
    "\t\tfor f in os.listdir(class_folder):\n",
    "\t\t\tfpath = class_folder + f\n",
    "\t\t\tsample = int(f.replace(\".png\", \"\"))\n",
    "\t\t\t\n",
    "\t\t\timg = cv2.imread(fpath, cv2.IMREAD_GRAYSCALE)\n",
    "\t\t\t\n",
    "\t\t\tif segmentate:\n",
    "\t\t\t\timg = cv2.bilateralFilter(img, 11, 17, 17)\n",
    "\t\t\t\timg = cv2.Canny(img, 30, 200)\n",
    "\t\t\t\timg = cv2.bitwise_not(img)\n",
    "\t\t\t\n",
    "\t\t\thu = cv2.HuMoments(cv2.moments(img))\n",
    "\t\t\t\n",
    "\t\t\tfor i in range(0, 7):\n",
    "\t\t\t\thu[i] = -1 * np.sign(hu[i]) * np.log10(np.abs(hu[i]))\n",
    "\t\t\t\n",
    "\t\t\thu = hu.reshape((1, 7)).tolist()[0] + [sample, idx]\n",
    "\t\t\tdump.append(hu)\n",
    "\t\t\n",
    "\t\tprint(c, \"ok!\")\n",
    "\n",
    "\tcols = [\"hu1\", \"hu2\", \"hu3\", \"hu4\", \"hu5\", \"hu6\", \"hu7\", \"sample\", \"class\"]\n",
    "\t\n",
    "\tdf = pd.DataFrame(dump, columns=cols)\n",
    "\tdf.to_csv(data_file, index=None)\n",
    "\tdf.head(20)\n",
    "\t\n",
    "\tprint(\"Extraction done!\")"
   ]
  },
  {
   "cell_type": "markdown",
   "metadata": {},
   "source": [
    "Executando essa função e salvando o resultado no arquivo ```hu_moments.csv```, temos:"
   ]
  },
  {
   "cell_type": "code",
   "execution_count": 12,
   "metadata": {
    "scrolled": true
   },
   "outputs": [
    {
     "name": "stdout",
     "output_type": "stream",
     "text": [
      "Extracting Hu moments...\n",
      "circle ok!\n",
      "square ok!\n",
      "star ok!\n",
      "triangle ok!\n",
      "        hu1        hu2        hu3        hu4        hu5        hu6        hu7  \\\n",
      "0  2.976302  10.862073  16.236278  14.197972  29.472187  20.236255 -29.733116   \n",
      "1  2.953107  10.391985  15.132586  12.833541  28.315505  18.341507 -26.816823   \n",
      "2  2.931488  11.913204  15.282587  14.760891 -29.790725 -21.270751 -30.500958   \n",
      "3  2.946141  10.519378  15.406552  14.050944 -28.827426 -19.329421 -29.132084   \n",
      "4  2.989636  11.580799  16.247847  14.115397  29.352122  20.331075  29.621781   \n",
      "\n",
      "   sample  class  \n",
      "0    3245      1  \n",
      "1    2929      1  \n",
      "2    1749      1  \n",
      "3    3112      1  \n",
      "4     545      1  \n",
      "Extraction done!\n"
     ]
    }
   ],
   "source": [
    "data_file = \"hu_moments.csv\"\n",
    "\n",
    "feature_extraction(data_file)"
   ]
  },
  {
   "cell_type": "markdown",
   "metadata": {},
   "source": [
    "A seguir, vamos definir a função que executa os classificadores. O conjunto de dados extraídos foram separados em subconjuntos de treinamento e teste na proporção 70/30 ao longo de 100 interações. O resultados de acurácia de todas as interação é salvo numa variável para análise:"
   ]
  },
  {
   "cell_type": "code",
   "execution_count": 27,
   "metadata": {},
   "outputs": [],
   "source": [
    "def classification(data_file, rounds=100, remove_disperse=False):\n",
    "\tdf = pd.read_csv(data_file)\n",
    "\tdf = df.drop([\"sample\"], axis=1)\n",
    "\t\n",
    "\tif remove_disperse:\n",
    "\t\tdf = df.drop([\"hu5\", \"hu6\", \"hu7\"], axis=1)\n",
    "\t\n",
    "\tX = df.drop([\"class\"], axis=1)\n",
    "\ty = df[\"class\"]\n",
    "\t\n",
    "\tans = {key: {\"score\" : [], \"sens\" : [], \"spec\" : []}\n",
    "\t       for key, value in classifiers.items()}\n",
    "\t\n",
    "\tprint(\"Classifying...\")\n",
    "\t\n",
    "\tfor i in range(rounds):\n",
    "\t\tX_train, X_test, y_train, y_test = data_split(X, y, test_size=0.3)\n",
    "\t\t\n",
    "\t\tfor name, classifier in classifiers.items():\n",
    "\t\t\tscaler = StandardScaler()\n",
    "\t\t\tscaler.fit(X_train)\n",
    "\t\t\tX_train = scaler.transform(X_train)\n",
    "\t\t\tX_test = scaler.transform(X_test)\n",
    "\t\t\t\n",
    "\t\t\tclassifier.fit(X_train, y_train)\n",
    "\t\t\tscore = classifier.score(X_test, y_test)\n",
    "\t\t\t\n",
    "\t\t\tans[name][\"score\"].append(score)\n",
    "\t\t\n",
    "\tprint(\"Classification done!\")\n",
    "\t\n",
    "\treturn ans"
   ]
  },
  {
   "cell_type": "markdown",
   "metadata": {},
   "source": [
    "Executando a função no conjunto de atributos recém-extraídos, temos:"
   ]
  },
  {
   "cell_type": "code",
   "execution_count": 14,
   "metadata": {},
   "outputs": [
    {
     "name": "stdout",
     "output_type": "stream",
     "text": [
      "Classifying...\n",
      "Classification done!\n"
     ]
    }
   ],
   "source": [
    "ans = classification(data_file)"
   ]
  },
  {
   "cell_type": "markdown",
   "metadata": {},
   "source": [
    "A variável ```ans``` guarda os resultados de classificação de todas as iterações. Para facilitar a análise, vamos escrever uma função que cácula média, mediana, valor máximo, valor mínimo e desvio padrão de todos os resultados de acurácia e formata o resultado em de maneira mais legível."
   ]
  },
  {
   "cell_type": "code",
   "execution_count": 16,
   "metadata": {},
   "outputs": [],
   "source": [
    "def sumary(ans, title=\"Vizualizando resposta de classificacao\"):\n",
    "\tsize = 70\n",
    "\tseparator = \"-\"\n",
    "\t\n",
    "\tprint(separator*size)\n",
    "\tprint(\"SUMARY: {}\".format(title))\n",
    "\tprint(separator*size)\n",
    "\tprint(\"CLASSIF\\t\\tMEAN\\tMEDIAN\\tMINV\\tMAXV\\tSTD\")\n",
    "\tprint(separator*size)\n",
    "\t\n",
    "\tfor n in ans:\n",
    "\t\tm = round(np.mean(ans[n][\"score\"])*100, 2)\n",
    "\t\tmed = round(np.median(ans[n][\"score\"])*100, 2)\n",
    "\t\tminv = round(np.min(ans[n][\"score\"])*100, 2)\n",
    "\t\tmaxv = round(np.max(ans[n][\"score\"])*100, 2)\n",
    "\t\tstd = round(np.std(ans[n][\"score\"])*100, 2)\n",
    "\t\t\n",
    "\t\tprint(\"{:<16}{}\\t{}\\t{}\\t{}\\t{}\".format(n, m, med, minv, maxv, std))\n",
    "\t\n",
    "\tprint(separator*size)\n",
    "\tprint()"
   ]
  },
  {
   "cell_type": "markdown",
   "metadata": {},
   "source": [
    "Executando ```sumary()```, temos:"
   ]
  },
  {
   "cell_type": "code",
   "execution_count": 18,
   "metadata": {},
   "outputs": [
    {
     "name": "stdout",
     "output_type": "stream",
     "text": [
      "----------------------------------------------------------------------\n",
      "SUMARY: Vizualizando resposta de classificacao\n",
      "----------------------------------------------------------------------\n",
      "CLASSIF\t\tMEAN\tMEDIAN\tMINV\tMAXV\tSTD\n",
      "----------------------------------------------------------------------\n",
      "DMC             90.72\t90.73\t89.45\t91.89\t0.51\n",
      "LDA             96.03\t96.04\t95.48\t96.53\t0.24\n",
      "QDA             95.72\t95.7\t95.23\t96.26\t0.23\n",
      "SVM_linear      96.48\t96.48\t96.04\t97.11\t0.22\n",
      "SVM_radial      97.29\t97.31\t96.66\t97.8\t0.2\n",
      "----------------------------------------------------------------------\n",
      "\n"
     ]
    }
   ],
   "source": [
    "sumary(ans)"
   ]
  },
  {
   "cell_type": "markdown",
   "metadata": {},
   "source": [
    "### Conclusão Preliminar\n",
    "\n",
    "Com taxas de classificação médias acima dos 90% em todos os classificadores protótipo, uma taxa máxima de 97,29% usando SVM e baixas taxas de desvio padrão, podemos concluir que os Momentos de Hu foram capazes de extrair uma boa descritibilidade dos objetos em questão.\n",
    "\n",
    "A seguir, vamos analisar, com base nas natureza dos Momentos de Hu, os valores de cada um dos atributos afim de encontrar uma configuração que possa trazer uma melhor classificação."
   ]
  },
  {
   "cell_type": "markdown",
   "metadata": {},
   "source": [
    "### Filtrando o Vetor de Atributos\n",
    "\n",
    "Vamos escrever uma função que nos mostra a dispersão dos valores de cada um dos 7 valores do vetor de atributos. Visualmente, gráficos de caixa são ótimos para essa tarefa."
   ]
  },
  {
   "cell_type": "code",
   "execution_count": 23,
   "metadata": {},
   "outputs": [],
   "source": [
    "def data_exploration(data_file):\n",
    "\tdf = pd.read_csv(data_file)\n",
    "\tfig, ax = plt.subplots(2, 2, sharey=True, figsize=(16,8))\n",
    "\tax = ax.reshape((1, 4))[0]\n",
    "\t\n",
    "\tfor c, idx in classes.items():\n",
    "\t\tdata = df.loc[df[\"class\"] == idx].drop([\"sample\", \"class\"], axis=1)\n",
    "\t\t\n",
    "\t\tax[idx-1].set_title(c)\n",
    "\t\tdata.boxplot(ax=ax[idx-1])\n",
    "\t\n",
    "\tplt.suptitle(\"Dispersão dos momentos por classe\")\n",
    "\tplt.tight_layout()\n",
    "\tplt.show()"
   ]
  },
  {
   "cell_type": "markdown",
   "metadata": {},
   "source": [
    "Executando para o arquivo de momentos já extraídos, temos:"
   ]
  },
  {
   "cell_type": "code",
   "execution_count": 24,
   "metadata": {},
   "outputs": [
    {
     "data": {
      "image/png": "[encoded data removed]",
      "text/plain": [
       "<Figure size 1152x576 with 4 Axes>"
      ]
     },
     "metadata": {
      "needs_background": "light"
     },
     "output_type": "display_data"
    }
   ],
   "source": [
    "data_exploration(data_file)"
   ]
  },
  {
   "cell_type": "markdown",
   "metadata": {},
   "source": [
    "Os primeiros 4 Momentos de Hu apresentam um mesmo comportamento de estabilidade e agrupamento. Entretanto, os momentos de 5 a 7 apresentam uma grande variabidade. Mesmo no caso do $hu6$ nas classes ```star``` e ```triangle```, podemos interpretar o aglomerado de outliers superiores distantes do grupo da mediana como do mesmo tamanho das caixas presentes em ```circle``` e ```square```.\n",
    "\n",
    "Essa análise é uma pista para a remoção desses valores do vetor de atributos. Vamos executar a classificação novamente, agora removendo $(hu5, hu6, hu7)$:"
   ]
  },
  {
   "cell_type": "code",
   "execution_count": 28,
   "metadata": {
    "scrolled": true
   },
   "outputs": [
    {
     "name": "stdout",
     "output_type": "stream",
     "text": [
      "Classifying...\n",
      "Classification done!\n",
      "----------------------------------------------------------------------\n",
      "SUMARY: Vizualizando resposta de classificacao\n",
      "----------------------------------------------------------------------\n",
      "CLASSIF\t\tMEAN\tMEDIAN\tMINV\tMAXV\tSTD\n",
      "----------------------------------------------------------------------\n",
      "DMC             92.14\t92.12\t90.92\t92.99\t0.4\n",
      "LDA             96.04\t96.09\t95.41\t96.75\t0.25\n",
      "QDA             95.74\t95.72\t95.15\t96.55\t0.27\n",
      "SVM_linear      96.42\t96.43\t95.93\t96.88\t0.23\n",
      "SVM_radial      97.5\t97.49\t97.08\t97.88\t0.18\n",
      "----------------------------------------------------------------------\n",
      "\n"
     ]
    }
   ],
   "source": [
    "ans2 = classification(data_file, remove_disperse=True)\n",
    "sumary(ans2)"
   ]
  },
  {
   "cell_type": "markdown",
   "metadata": {},
   "source": [
    "Podemos ver que o classificador Distância Mínima ao Centróide foi favorecido com a essa remoção de valores do vetor de atributos. Já que esse preditor trabalha com o centróide da massa de atributos, valores dispersos movem o centróide de forma que possa gerar confusão entre as classes."
   ]
  }
 ],
 "metadata": {
  "kernelspec": {
   "display_name": "Python 3",
   "language": "python",
   "name": "python3"
  },
  "language_info": {
   "codemirror_mode": {
    "name": "ipython",
    "version": 3
   },
   "file_extension": ".py",
   "mimetype": "text/x-python",
   "name": "python",
   "nbconvert_exporter": "python",
   "pygments_lexer": "ipython3",
   "version": "3.6.8"
  }
 },
 "nbformat": 4,
 "nbformat_minor": 2
}
